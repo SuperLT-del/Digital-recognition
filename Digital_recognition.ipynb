{
  "nbformat": 4,
  "nbformat_minor": 0,
  "metadata": {
    "colab": {
      "name": "Digital recognition.ipynb",
      "provenance": [],
      "collapsed_sections": [],
      "toc_visible": true,
      "authorship_tag": "ABX9TyNZqAMrfltyx7oD9JhM7pbU",
      "include_colab_link": true
    },
    "kernelspec": {
      "display_name": "Python 3",
      "name": "python3"
    }
  },
  "cells": [
    {
      "cell_type": "markdown",
      "metadata": {
        "id": "view-in-github",
        "colab_type": "text"
      },
      "source": [
        "<a href=\"https://colab.research.google.com/github/SuperLT-del/Digital-recognition/blob/main/Digital_recognition.ipynb\" target=\"_parent\"><img src=\"https://colab.research.google.com/assets/colab-badge.svg\" alt=\"Open In Colab\"/></a>"
      ]
    },
    {
      "cell_type": "code",
      "metadata": {
        "id": "XSiNGnLK6hgL"
      },
      "source": [
        "import numpy\n",
        "import matplotlib.pyplot\n",
        "%matplotlib inline\n",
        "import scipy.special\n",
        "import imageio\n",
        "import glob"
      ],
      "execution_count": 1,
      "outputs": []
    },
    {
      "cell_type": "code",
      "metadata": {
        "id": "xFervN0y6kgx"
      },
      "source": [
        "#定义网络模型框架\n",
        "class neuralNetwork:\n",
        "    #初始化模型\n",
        "    def _init_(self,inputnodes,hiddennodes,outputsnodes,learningrate):\n",
        "        #设置输入层，隐藏层，输出层节点数目\n",
        "        self.inodes=inputnodes\n",
        "        self.hnodes=hiddennodes\n",
        "        self.onodes=outputsnodes\n",
        "        #定义学习率\n",
        "        self.ir=learningrate\n",
        "        #创建两个链接权重矩阵\n",
        "        self.wih=numpy.random.normal(0.0,pow(self.hnodes,-0.5),(self.hnodes,self.inodes))\n",
        "        self.who=numpy.random.normal(0.0,pow(self.onodes,-0.5),(self.onodes,self.hnodes))\n",
        "        #激活函数\n",
        "        self.activation_function=lambda x:scipy.special.expit(x)\n",
        "        pass\n",
        "    #模型训练\n",
        "    def train(self,input_lists,targets_lists):\n",
        "        #使输入列表转换为二维矩阵\n",
        "        inputs=numpy.array(input_lists,ndmin=2).T\n",
        "        targets=numpy.array(targets_lists,ndmin=2).T\n",
        "        #通过激活函数与链接矩阵调节信号\n",
        "        hidden_inputs=numpy.dot(self.wih,inputs)\n",
        "        hidden_outputs=self.activation_function(hidden_inputs)\n",
        "        final_inputs=numpy.dot(self.who,hidden_outputs)\n",
        "        final_outputs=self.activation_function(final_inputs)\n",
        "        #计算误差并进行权重的优化\n",
        "        final_errors=targets-final_outputs\n",
        "        hidden_errors=numpy.dot(self.who.T,final_errors)\n",
        "        self.who+=self.ir*numpy.dot((final_errors*final_outputs*(1-final_outputs)),numpy.transpose(hidden_outputs))\n",
        "        self.wih+=self.ir*numpy.dot((hidden_errors*hidden_outputs*(1-hidden_outputs)),numpy.transpose(inputs))\n",
        "        pass\n",
        "    def query(self,inputs_lists):\n",
        "        #使输入列表转换为二维矩阵\n",
        "        inputs=numpy.array(inputs_lists,ndmin=2).T\n",
        "        #通过激活函数与链接矩阵调节信号\n",
        "        hidden_inputs=numpy.dot(self.wih,inputs)\n",
        "        hidden_outputs=self.activation_function(hidden_inputs)\n",
        "        final_inputs=numpy.dot(self.who,hidden_outputs)\n",
        "        final_outputs=self.activation_function(final_inputs)\n",
        "        return final_outputs"
      ],
      "execution_count": 2,
      "outputs": []
    },
    {
      "cell_type": "code",
      "metadata": {
        "id": "MaVs6StQ64UR"
      },
      "source": [
        "#分别设置输入层，隐藏层，输出层节点数目\n",
        "input_nodes=784\n",
        "hidden_nodes=200\n",
        "output_nodes=10\n",
        "#学习率\n",
        "learning_rate=0.1\n",
        "#定义n为网络模型框架\n",
        "n=neuralNetwork()\n",
        "n._init_(input_nodes,hidden_nodes,output_nodes,learning_rate)"
      ],
      "execution_count": 3,
      "outputs": []
    },
    {
      "cell_type": "code",
      "metadata": {
        "id": "I18o6S3R7i4X"
      },
      "source": [
        "# 读取下载得到的训练集\n",
        "training_data_file = open(\"/content/mnist_train.csv\",'r')\n",
        "training_data_list = training_data_file.readlines()\n",
        "training_data_file.close()"
      ],
      "execution_count": 4,
      "outputs": []
    },
    {
      "cell_type": "code",
      "metadata": {
        "id": "g7foTgxl7Rlf"
      },
      "source": [
        "#设置迭代次数\n",
        "epochs = 5\n",
        "for e in range(epochs):\n",
        "    for record in training_data_list:\n",
        "        #将所有数据通过逗号分隔开\n",
        "        all_values=record.split(',')\n",
        "        #将输入颜色值从较大的[0,255]缩放至[0.01,1]\n",
        "        inputs=(numpy.asfarray(all_values[1:])/255.0 * 0.99) + 0.01\n",
        "        #使用值0.01和0.99分别代替整数0和整数1\n",
        "        targets=numpy.zeros(output_nodes) + 0.01\n",
        "        targets[int(all_values[0])] = 0.99\n",
        "        n.train(inputs,targets)\n",
        "        pass\n",
        "    pass"
      ],
      "execution_count": 5,
      "outputs": []
    },
    {
      "cell_type": "code",
      "metadata": {
        "id": "ylHw2oLToQLB"
      },
      "source": [
        "# 读取下载得到的测试数据集\n",
        "test_data_file=open(\"/content/mnist_test.csv\",'r')\n",
        "test_data_list=test_data_file.readlines()\n",
        "test_data_file.close()"
      ],
      "execution_count": 6,
      "outputs": []
    },
    {
      "cell_type": "code",
      "metadata": {
        "id": "7uoQmibdoQf_"
      },
      "source": [
        "#计分板，其中的每个数据有两种值：1和0\n",
        "scorecard=[]\n",
        "for record in test_data_list:\n",
        "    all_values=record.split(',')\n",
        "    #正确的数字结果\n",
        "    correct_label=int(all_values[0])\n",
        "    inputs=(numpy.asfarray(all_values[1:])/255.0*0.99)+0.01\n",
        "    #通过模型计算得到的一位数组\n",
        "    outputs=n.query(inputs)\n",
        "    #将数组中最大值对应的数字赋值给label\n",
        "    label=numpy.argmax(outputs)\n",
        "    #将计算得到的数字与正确的数字进行比较，如果相同则设值为1，不同则为0\n",
        "    if(label==correct_label):\n",
        "        scorecard.append(1)\n",
        "    else:\n",
        "        scorecard.append(0)\n",
        "        pass\n",
        "    pass"
      ],
      "execution_count": 7,
      "outputs": []
    },
    {
      "cell_type": "code",
      "metadata": {
        "colab": {
          "base_uri": "https://localhost:8080/"
        },
        "id": "9vwL3t1zogkH",
        "outputId": "482f036b-4fd1-4a1c-b036-3f4482f1c8c5"
      },
      "source": [
        "#计算测试的正确率\n",
        "scorecard_array=numpy.asarray(scorecard)\n",
        "print(\"performance = \",scorecard_array.sum()/scorecard_array.size)"
      ],
      "execution_count": 8,
      "outputs": [
        {
          "output_type": "stream",
          "text": [
            "performance =  0.9722\n"
          ],
          "name": "stdout"
        }
      ]
    },
    {
      "cell_type": "code",
      "metadata": {
        "colab": {
          "base_uri": "https://localhost:8080/"
        },
        "id": "qN4K-eYe9Ver",
        "outputId": "408ad434-d747-4a0e-ede5-80f1aaeed941"
      },
      "source": [
        "#我们自己的图像测试数据集\n",
        "our_own_dataset = []\n",
        "#加载png图像数据作为测试数据集\n",
        "for image_file_name in glob.glob('/content/picture?.png'):\n",
        "    #使用文件名来设置正确的标签\n",
        "    label = int(image_file_name[-5:-4])\n",
        "    print (\"loading ... \", image_file_name)\n",
        "    #将上传的PNG图片转换为数组\n",
        "    img_array = imageio.imread(image_file_name, as_gray=True)\n",
        "    #将28*28数组矩阵转换为包含784个像素值的列表\n",
        "    img_data  = 255.0 - img_array.reshape(784)\n",
        "    img_data = (img_data / 255.0 * 0.99) + 0.01\n",
        "    print(numpy.min(img_data))\n",
        "    print(numpy.max(img_data))\n",
        "    #附加标签和图像数据来测试数据集\n",
        "    record = numpy.append(label,img_data)\n",
        "    our_own_dataset.append(record)\n",
        "    pass"
      ],
      "execution_count": 9,
      "outputs": [
        {
          "output_type": "stream",
          "text": [
            "loading ...  /content/picture2.png\n",
            "0.01\n",
            "1.0\n",
            "loading ...  /content/picture7.png\n",
            "0.01\n",
            "1.0\n",
            "loading ...  /content/picture3.png\n",
            "0.01\n",
            "1.0\n",
            "loading ...  /content/picture8.png\n",
            "0.01\n",
            "1.0\n",
            "loading ...  /content/picture9.png\n",
            "0.01\n",
            "0.34\n",
            "loading ...  /content/picture4.png\n",
            "0.01\n",
            "1.0\n",
            "loading ...  /content/picture6.png\n",
            "0.01\n",
            "1.0\n",
            "loading ...  /content/picture5.png\n",
            "0.01\n",
            "1.0\n",
            "loading ...  /content/picture0.png\n",
            "0.01\n",
            "1.0\n",
            "loading ...  /content/picture1.png\n",
            "0.01\n",
            "1.0\n"
          ],
          "name": "stdout"
        }
      ]
    },
    {
      "cell_type": "code",
      "metadata": {
        "colab": {
          "base_uri": "https://localhost:8080/",
          "height": 466
        },
        "id": "NBuXVYiU9okg",
        "outputId": "b78f5fde-909b-42ab-9f93-cd3473b08485"
      },
      "source": [
        "#用于标记图片标号，例如4就代表第四张图片。跟实际的图片上的数字没有直接关系\n",
        "item = 2\n",
        "#此函数用于绘制数字矩形数组\n",
        "matplotlib.pyplot.imshow(our_own_dataset[item][1:].reshape(28,28), cmap='Greys', interpolation='None')\n",
        "#将正确结果赋值给correct_label变量\n",
        "correct_label = our_own_dataset[item][0]\n",
        "inputs = our_own_dataset[item][1:]\n",
        "outputs = n.query(inputs)\n",
        "#得到结果数组\n",
        "print (outputs)\n",
        "#将数组中最大值对应的数字赋值给label变量\n",
        "label = numpy.argmax(outputs)\n",
        "print(\"network says \", label)\n",
        "#如果模型测试的结果与正确结果相同则显示match! 否则显示no match!\n",
        "if (label == correct_label):\n",
        "    print (\"match!\")\n",
        "else:\n",
        "    print (\"no match!\")\n",
        "    pass"
      ],
      "execution_count": 10,
      "outputs": [
        {
          "output_type": "stream",
          "text": [
            "[[4.27933341e-03]\n",
            " [4.70213329e-03]\n",
            " [5.13782104e-02]\n",
            " [9.92525373e-01]\n",
            " [1.14547609e-03]\n",
            " [2.44288499e-03]\n",
            " [6.97961236e-04]\n",
            " [5.22608293e-04]\n",
            " [4.15657876e-04]\n",
            " [4.00006501e-03]]\n",
            "network says  3\n",
            "match!\n"
          ],
          "name": "stdout"
        },
        {
          "output_type": "display_data",
          "data": {
            "image/png": "[encoded data removed]",
            "text/plain": [
              "<Figure size 432x288 with 1 Axes>"
            ]
          },
          "metadata": {
            "tags": [],
            "needs_background": "light"
          }
        }
      ]
    }
  ]
}